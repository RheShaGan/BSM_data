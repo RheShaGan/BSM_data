{
 "cells": [
  {
   "cell_type": "code",
   "execution_count": 15,
   "metadata": {},
   "outputs": [],
   "source": [
    "import pandas as pd"
   ]
  },
  {
   "cell_type": "markdown",
   "metadata": {},
   "source": [
    "## Reading Text file to table \n",
    "\n",
    "uses read_table() method in Pandas (doc: https://pandas.pydata.org/pandas-docs/stable/generated/pandas.read_table.html)\n",
    "sep - (where you specify Regex)"
   ]
  },
  {
   "cell_type": "code",
   "execution_count": 13,
   "metadata": {},
   "outputs": [],
   "source": [
    "df = pd.read_table('bsm_input_part_smallBlocks.txt', sep='\\s|\\/|\\bENDBSM\\b|\\.|\\, ', header=None, index_col=False, skiprows=0, usecols=[8,9,11,12,13,14,15,17,18,20,21,22,23,24,25,26,27,28,29,30,31,32,33,34,35,36,37,38,39,40], engine='python' )"
   ]
  },
  {
   "cell_type": "code",
   "execution_count": 14,
   "metadata": {},
   "outputs": [
    {
     "data": {
      "text/html": [
       "<div>\n",
       "<style scoped>\n",
       "    .dataframe tbody tr th:only-of-type {\n",
       "        vertical-align: middle;\n",
       "    }\n",
       "\n",
       "    .dataframe tbody tr th {\n",
       "        vertical-align: top;\n",
       "    }\n",
       "\n",
       "    .dataframe thead th {\n",
       "        text-align: right;\n",
       "    }\n",
       "</style>\n",
       "<table border=\"1\" class=\"dataframe\">\n",
       "  <thead>\n",
       "    <tr style=\"text-align: right;\">\n",
       "      <th></th>\n",
       "      <th>8</th>\n",
       "      <th>9</th>\n",
       "      <th>11</th>\n",
       "      <th>12</th>\n",
       "      <th>13</th>\n",
       "      <th>14</th>\n",
       "      <th>15</th>\n",
       "      <th>17</th>\n",
       "      <th>18</th>\n",
       "      <th>20</th>\n",
       "      <th>...</th>\n",
       "      <th>31</th>\n",
       "      <th>32</th>\n",
       "      <th>33</th>\n",
       "      <th>34</th>\n",
       "      <th>35</th>\n",
       "      <th>36</th>\n",
       "      <th>37</th>\n",
       "      <th>38</th>\n",
       "      <th>39</th>\n",
       "      <th>40</th>\n",
       "    </tr>\n",
       "  </thead>\n",
       "  <tbody>\n",
       "    <tr>\n",
       "      <th>0</th>\n",
       "      <td>V</td>\n",
       "      <td>1LDXB</td>\n",
       "      <td>F</td>\n",
       "      <td>SG014</td>\n",
       "      <td>02APR</td>\n",
       "      <td>BOM</td>\n",
       "      <td>Y</td>\n",
       "      <td>N</td>\n",
       "      <td>0775767939002</td>\n",
       "      <td>S</td>\n",
       "      <td>...</td>\n",
       "      <td>K</td>\n",
       "      <td>2</td>\n",
       "      <td>47</td>\n",
       "      <td>NaN</td>\n",
       "      <td>P</td>\n",
       "      <td>1BORKAR</td>\n",
       "      <td>AKASHJAYENDRA</td>\n",
       "      <td>NaN</td>\n",
       "      <td>L</td>\n",
       "      <td>I65KQF</td>\n",
       "    </tr>\n",
       "    <tr>\n",
       "      <th>1</th>\n",
       "      <td>V</td>\n",
       "      <td>1LDXB</td>\n",
       "      <td>F</td>\n",
       "      <td>BI0097</td>\n",
       "      <td>02APR</td>\n",
       "      <td>LHR</td>\n",
       "      <td>Y</td>\n",
       "      <td>N</td>\n",
       "      <td>0672727063001</td>\n",
       "      <td>S</td>\n",
       "      <td>...</td>\n",
       "      <td>1</td>\n",
       "      <td>16</td>\n",
       "      <td>NaN</td>\n",
       "      <td>P</td>\n",
       "      <td>HIGHFIELD</td>\n",
       "      <td>COLEENMS</td>\n",
       "      <td>NaN</td>\n",
       "      <td>L</td>\n",
       "      <td>SLEHJT</td>\n",
       "      <td>ENDBSM</td>\n",
       "    </tr>\n",
       "  </tbody>\n",
       "</table>\n",
       "<p>2 rows × 30 columns</p>\n",
       "</div>"
      ],
      "text/plain": [
       "  8      9  11      12     13   14 15 17             18 20   ...   31  32  \\\n",
       "0  V  1LDXB  F   SG014  02APR  BOM  Y  N  0775767939002  S   ...    K   2   \n",
       "1  V  1LDXB  F  BI0097  02APR  LHR  Y  N  0672727063001  S   ...    1  16   \n",
       "\n",
       "    33   34         35        36             37   38      39      40  \n",
       "0   47  NaN          P   1BORKAR  AKASHJAYENDRA  NaN       L  I65KQF  \n",
       "1  NaN    P  HIGHFIELD  COLEENMS            NaN    L  SLEHJT  ENDBSM  \n",
       "\n",
       "[2 rows x 30 columns]"
      ]
     },
     "execution_count": 14,
     "metadata": {},
     "output_type": "execute_result"
    }
   ],
   "source": [
    "df.head(2) #displaying first 2 rows only"
   ]
  },
  {
   "cell_type": "code",
   "execution_count": null,
   "metadata": {},
   "outputs": [],
   "source": []
  }
 ],
 "metadata": {
  "kernelspec": {
   "display_name": "Python 3",
   "language": "python",
   "name": "python3"
  },
  "language_info": {
   "codemirror_mode": {
    "name": "ipython",
    "version": 3
   },
   "file_extension": ".py",
   "mimetype": "text/x-python",
   "name": "python",
   "nbconvert_exporter": "python",
   "pygments_lexer": "ipython3",
   "version": "3.6.4"
  }
 },
 "nbformat": 4,
 "nbformat_minor": 2
}
